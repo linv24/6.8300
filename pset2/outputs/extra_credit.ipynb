{
 "cells": [
  {
   "cell_type": "code",
   "execution_count": 1,
   "metadata": {},
   "outputs": [],
   "source": [
    "import numpy as np\n",
    "import torch\n",
    "import matplotlib.pyplot as plt"
   ]
  },
  {
   "cell_type": "code",
   "execution_count": 2,
   "metadata": {},
   "outputs": [
    {
     "name": "stdout",
     "output_type": "stream",
     "text": [
      "[[1102.46277588  293.21672405   93.2818038  ...   30.51961243\n",
      "    93.2818038   293.21672405]\n",
      " [  78.72156337   34.22823161   18.64534226 ...    9.58606603\n",
      "    62.46803489   91.96917792]\n",
      " [  57.10699364   54.91213567   20.66917916 ...   16.85162101\n",
      "    23.29890493   22.28890341]\n",
      " ...\n",
      " [  16.07248401   18.55388474   33.40443006 ...   21.88134834\n",
      "    12.49952747   15.40368095]\n",
      " [  57.10699364   22.28890341   23.29890493 ...   40.18695067\n",
      "    20.66917916   54.91213567]\n",
      " [  78.72156337   91.96917792   62.46803489 ...   61.69356383\n",
      "    18.64534226   34.22823161]] [[ 0.          3.13112589 -0.12839117 ... -0.65893609  0.12839117\n",
      "  -3.13112589]\n",
      " [ 3.13999746 -0.23333418 -1.58620872 ... -2.37353527  2.3743593\n",
      "  -0.27472426]\n",
      " [-1.90604908  1.51695204 -2.76586679 ... -0.56158592  1.94633325\n",
      "   0.33478925]\n",
      " ...\n",
      " [ 2.78730162 -1.90111688  1.27770696 ... -3.05739159 -0.87793631\n",
      "  -0.00882358]\n",
      " [ 1.90604908 -0.33478925 -1.94633325 ...  0.74444799  2.76586679\n",
      "  -1.51695204]\n",
      " [-3.13999746  0.27472426 -2.3743593  ... -1.52645142  1.58620872\n",
      "   0.23333418]]\n"
     ]
    }
   ],
   "source": [
    "img = torch.tensor(plt.imread(\"../img/dog.png\"))[..., 0]\n",
    "\n",
    "fourier_transform = np.fft.fft2(img)\n",
    "\n",
    "# Compute magnitude\n",
    "magnitude = np.abs(fourier_transform)\n",
    "\n",
    "# Compute phase\n",
    "phase = np.angle(fourier_transform)\n",
    "\n",
    "print(magnitude, phase)"
   ]
  }
 ],
 "metadata": {
  "kernelspec": {
   "display_name": "venv",
   "language": "python",
   "name": "python3"
  },
  "language_info": {
   "codemirror_mode": {
    "name": "ipython",
    "version": 3
   },
   "file_extension": ".py",
   "mimetype": "text/x-python",
   "name": "python",
   "nbconvert_exporter": "python",
   "pygments_lexer": "ipython3",
   "version": "3.11.2"
  }
 },
 "nbformat": 4,
 "nbformat_minor": 2
}

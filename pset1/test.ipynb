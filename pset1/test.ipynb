{
 "cells": [
  {
   "cell_type": "markdown",
   "metadata": {},
   "source": [
    "# part 1"
   ]
  },
  {
   "cell_type": "code",
   "execution_count": 18,
   "metadata": {},
   "outputs": [],
   "source": [
    "import torch\n",
    "import torchvision\n",
    "from PIL import Image"
   ]
  },
  {
   "cell_type": "code",
   "execution_count": 25,
   "metadata": {},
   "outputs": [],
   "source": [
    "a = torch.ones((16, 30, 4))\n",
    "b = torch.ones((16, 3, 4))"
   ]
  },
  {
   "cell_type": "code",
   "execution_count": 26,
   "metadata": {},
   "outputs": [
    {
     "data": {
      "text/plain": [
       "torch.Size([16, 16, 30, 3])"
      ]
     },
     "execution_count": 26,
     "metadata": {},
     "output_type": "execute_result"
    }
   ],
   "source": [
    "c = a @ b.unsqueeze(1).transpose(-2, -1)\n",
    "c.shape"
   ]
  },
  {
   "cell_type": "markdown",
   "metadata": {},
   "source": [
    "# part 2"
   ]
  },
  {
   "cell_type": "code",
   "execution_count": 1,
   "metadata": {},
   "outputs": [],
   "source": [
    "import torch\n",
    "import torchvision\n",
    "from PIL import Image\n",
    "\n",
    "from src.puzzle import load_dataset\n",
    "from src.provided_code import get_bunny\n",
    "from src.rendering import render_point_cloud\n",
    "import itertools\n",
    "import matplotlib.pyplot as plt"
   ]
  },
  {
   "cell_type": "code",
   "execution_count": 2,
   "metadata": {},
   "outputs": [],
   "source": [
    "ds = load_dataset(\"/Users/vincentlin246/git/6.8300/ps1/data/puzzles\")"
   ]
  },
  {
   "cell_type": "code",
   "execution_count": 26,
   "metadata": {},
   "outputs": [],
   "source": [
    "\n",
    "target_image = ds[\"images\"][0]\n",
    "src_extrinsics = ds[\"extrinsics\"][0].unsqueeze(0)\n",
    "src_intrinsics = ds[\"intrinsics\"][0].unsqueeze(0)\n",
    "\n",
    "src_vertices, _ = get_bunny()"
   ]
  },
  {
   "cell_type": "code",
   "execution_count": 4,
   "metadata": {},
   "outputs": [
    {
     "data": {
      "text/plain": [
       "<matplotlib.image.AxesImage at 0x131e87cd0>"
      ]
     },
     "execution_count": 4,
     "metadata": {},
     "output_type": "execute_result"
    },
    {
     "data": {
      "image/png": "[encoded data removed]",
      "text/plain": [
       "<Figure size 640x480 with 1 Axes>"
      ]
     },
     "metadata": {},
     "output_type": "display_data"
    }
   ],
   "source": [
    "plt.imshow(target_image, cmap=\"gray\")"
   ]
  },
  {
   "cell_type": "code",
   "execution_count": 57,
   "metadata": {},
   "outputs": [
    {
     "data": {
      "text/plain": [
       "tensor([[ 1.0000e+00,  0.0000e+00,  0.0000e+00,  1.7881e-07],\n",
       "        [ 7.4506e-08,  1.0000e+00,  6.7055e-08,  0.0000e+00],\n",
       "        [ 1.1921e-07,  0.0000e+00,  1.0000e+00,  8.9407e-08],\n",
       "        [-1.4901e-08, -1.4901e-08,  4.4703e-08,  1.0000e+00]])"
      ]
     },
     "execution_count": 57,
     "metadata": {},
     "output_type": "execute_result"
    }
   ],
   "source": [
    "a = torch.randint(1, 20, (4,4), dtype=torch.float32)\n",
    "# torch.inverse(a) @ a\n",
    "a @ torch.inverse(a)"
   ]
  },
  {
   "cell_type": "code",
   "execution_count": 39,
   "metadata": {},
   "outputs": [
    {
     "data": {
      "text/plain": [
       "tensor([[ 1.,  0.,  0.],\n",
       "        [ 0.,  1.,  0.],\n",
       "        [ 0.,  0., -1.]])"
      ]
     },
     "execution_count": 39,
     "metadata": {},
     "output_type": "execute_result"
    }
   ],
   "source": [
    "T = torch.tensor([\n",
    "        [ 0., -0., -1.],\n",
    "        [ 0., -1., -0.],\n",
    "        [ 1., -0., -0.]\n",
    "    ])\n",
    "\n",
    "og = torch.tensor([\n",
    "    [0, 0, 1],\n",
    "    [0, -1, 0],\n",
    "    [1, 0, 0]\n",
    "], dtype=torch.float32)\n",
    "\n",
    "og @ T"
   ]
  },
  {
   "cell_type": "code",
   "execution_count": 61,
   "metadata": {},
   "outputs": [
    {
     "name": "stdout",
     "output_type": "stream",
     "text": [
      "tensor([[0., 1., 2.],\n",
      "        [3., 4., 5.],\n",
      "        [6., 7., 8.]])\n",
      "tensor([[ 2., -1.,  0.],\n",
      "        [ 5., -4., -3.],\n",
      "        [ 8., -7., -6.]])\n"
     ]
    }
   ],
   "source": [
    "a = torch.arange(9.0).reshape(3,3)\n",
    "print(a)\n",
    "print(a @ T)"
   ]
  },
  {
   "cell_type": "code",
   "execution_count": 29,
   "metadata": {},
   "outputs": [
    {
     "name": "stdout",
     "output_type": "stream",
     "text": [
      "success!\n",
      "transformation_matrix=tensor([[ 0., -0., -1.],\n",
      "        [ 0., -1., -0.],\n",
      "        [ 1., -0., -0.]])\n"
     ]
    },
    {
     "name": "stderr",
     "output_type": "stream",
     "text": [
      "/var/folders/c9/_gyq85b94pj3h64pcn5g23th0000gn/T/ipykernel_98373/827480966.py:28: UserWarning: FigureCanvasAgg is non-interactive, and thus cannot be shown\n",
      "  fig.show()\n"
     ]
    },
    {
     "data": {
      "image/png": "[encoded data removed]",
      "text/plain": [
       "<Figure size 640x480 with 1 Axes>"
      ]
     },
     "metadata": {},
     "output_type": "display_data"
    }
   ],
   "source": [
    "def rotations():\n",
    "    flag = True\n",
    "\n",
    "    # try different rotations\n",
    "    for p_ix, p in enumerate(itertools.permutations(torch.eye(3))):\n",
    "        for parity_ix, parity in enumerate(list(itertools.product([1, -1], repeat=3))):\n",
    "            transformation_matrix = torch.stack(p) * torch.tensor(parity)\n",
    "\n",
    "            R = src_extrinsics[0, :3, :3]\n",
    "            t = src_extrinsics[0, :3, -1]\n",
    "            R_prime = R @ transformation_matrix\n",
    "\n",
    "            transformed_extrinsics = torch.cat((R_prime, t.unsqueeze(1)), dim=1)\n",
    "            transformed_extrinsics = torch.cat((transformed_extrinsics, torch.tensor([[0,0,0,1]])), dim=0).unsqueeze(0)\n",
    "            # transformed_extrinsics shape = (batch, 4, 4) where batch = 1 for now\n",
    "\n",
    "            canvas = render_point_cloud(\n",
    "                src_vertices,\n",
    "                transformed_extrinsics,\n",
    "                src_intrinsics\n",
    "            )[0]\n",
    "\n",
    "            if (canvas == target_image).all():\n",
    "                print('success!')\n",
    "                print(f\"{transformation_matrix=}\")\n",
    "                fig, ax = plt.subplots()\n",
    "                ax.imshow(canvas, cmap=\"gray\")\n",
    "                fig.show()\n",
    "                return\n",
    "\n",
    "rotations()"
   ]
  },
  {
   "cell_type": "code",
   "execution_count": 17,
   "metadata": {},
   "outputs": [
    {
     "data": {
      "text/plain": [
       "tensor([[[-0.1573,  0.1778, -0.9714, -0.3145],\n",
       "         [ 0.7491,  0.6624,  0.0000,  1.4982],\n",
       "         [-0.6435,  0.7277,  0.2374, -1.2870],\n",
       "         [ 0.0000,  0.0000,  0.0000,  1.0000]]])"
      ]
     },
     "execution_count": 17,
     "metadata": {},
     "output_type": "execute_result"
    }
   ],
   "source": [
    "src_extrinsics"
   ]
  },
  {
   "cell_type": "code",
   "execution_count": null,
   "metadata": {},
   "outputs": [
    {
     "name": "stdout",
     "output_type": "stream",
     "text": [
      "tensor([[[-0.1573,  0.1778, -0.9714, -0.3145],\n",
      "         [ 0.7491,  0.6624,  0.0000,  1.4982],\n",
      "         [-0.6435,  0.7277,  0.2374, -1.2870],\n",
      "         [ 0.0000,  0.0000,  0.0000,  1.0000]]])\n",
      "tensor([[[-1.5725e-01,  7.4912e-01, -6.4349e-01, -3.1451e-01],\n",
      "         [ 1.7783e-01,  6.6243e-01,  7.2771e-01,  1.4982e+00],\n",
      "         [-9.7141e-01, -1.3772e-08,  2.3739e-01, -1.2870e+00],\n",
      "         [ 0.0000e+00,  0.0000e+00,  0.0000e+00,  1.0000e+00]]])\n"
     ]
    }
   ],
   "source": [
    "R_opencv = torch.tensor([[1, 0,  0],\n",
    "                         [0, -1, 0],\n",
    "                         [0, 0,  1]], dtype=torch.float32)\n",
    "R = src_extrinsics[0, :3, :3]\n",
    "Rt = src_extrinsics[0, :3, -1]\n",
    "R_prime = R_opencv @ torch.inverse(R)\n",
    "\n",
    "transformed_extrinsics = torch.cat((R_prime, Rt.unsqueeze(1)), dim=1)\n",
    "transformed_extrinsics = torch.cat((transformed_extrinsics, torch.tensor([[0,0,0,1]])), dim=0).unsqueeze(0)\n",
    "print(src_extrinsics)\n",
    "print(transformed_extrinsics)"
   ]
  },
  {
   "cell_type": "code",
   "execution_count": 31,
   "metadata": {},
   "outputs": [
    {
     "data": {
      "text/plain": [
       "<matplotlib.image.AxesImage at 0x153a63210>"
      ]
     },
     "execution_count": 31,
     "metadata": {},
     "output_type": "execute_result"
    },
    {
     "data": {
      "image/png": "[encoded data removed]",
      "text/plain": [
       "<Figure size 640x480 with 1 Axes>"
      ]
     },
     "metadata": {},
     "output_type": "display_data"
    }
   ],
   "source": [
    "from src.provided_code import generate_spin\n",
    "from einops import repeat\n",
    "\n",
    "c2w = generate_spin(16, 15.0, 2.0)[0].unsqueeze(0)\n",
    "k = torch.eye(3, dtype=torch.float32)\n",
    "k[:2, 2] = 0.5\n",
    "k = repeat(k, \"i j -> b i j\", b=16)[0].unsqueeze(0)\n",
    "\n",
    "transformation_matrix = torch.tensor([[ 0., -0., -1.],\n",
    "        [ 0., -1., -0.],\n",
    "        [ 1., -0., -0.]])\n",
    "R = src_extrinsics[0, :3, :3]\n",
    "R_prime = R @ transformation_matrix\n",
    "transformed_extrinsics = src_extrinsics.clone()\n",
    "transformed_extrinsics[0, :3, :3] = R_prime\n",
    "\n",
    "canvas = render_point_cloud(\n",
    "    src_vertices,\n",
    "    transformed_extrinsics,\n",
    "    src_intrinsics\n",
    ")\n",
    "\n",
    "plt.imshow(canvas[0], cmap=\"gray\")"
   ]
  },
  {
   "cell_type": "markdown",
   "metadata": {},
   "source": [
    "# part 3"
   ]
  },
  {
   "cell_type": "code",
   "execution_count": 2,
   "metadata": {},
   "outputs": [],
   "source": [
    "import numpy as np"
   ]
  },
  {
   "cell_type": "code",
   "execution_count": 13,
   "metadata": {},
   "outputs": [
    {
     "data": {
      "text/plain": [
       "array([[ 6.+0.j,  0.+0.j],\n",
       "       [-2.+0.j,  0.+0.j]])"
      ]
     },
     "execution_count": 13,
     "metadata": {},
     "output_type": "execute_result"
    }
   ],
   "source": [
    "a = np.array([[1,1], [2,2]])\n",
    "b = np.fft.fft2(a)\n",
    "b"
   ]
  },
  {
   "cell_type": "code",
   "execution_count": 14,
   "metadata": {},
   "outputs": [
    {
     "data": {
      "text/plain": [
       "array([[0.        , 0.        ],\n",
       "       [3.14159265, 0.        ]])"
      ]
     },
     "execution_count": 14,
     "metadata": {},
     "output_type": "execute_result"
    }
   ],
   "source": [
    "np.angle(b)"
   ]
  },
  {
   "cell_type": "code",
   "execution_count": 18,
   "metadata": {},
   "outputs": [
    {
     "data": {
      "text/plain": [
       "array([[0.        , 0.        ],\n",
       "       [3.14159265, 0.        ]])"
      ]
     },
     "execution_count": 18,
     "metadata": {},
     "output_type": "execute_result"
    }
   ],
   "source": [
    "(np.angle(b) >= -np.pi) * (np.angle(b) <= np.pi) * np.angle(b)"
   ]
  },
  {
   "cell_type": "code",
   "execution_count": 16,
   "metadata": {},
   "outputs": [
    {
     "data": {
      "text/plain": [
       "array([[1., 1.],\n",
       "       [2., 2.]])"
      ]
     },
     "execution_count": 16,
     "metadata": {},
     "output_type": "execute_result"
    }
   ],
   "source": [
    "abs(np.fft.ifft2(b))"
   ]
  },
  {
   "cell_type": "markdown",
   "metadata": {},
   "source": [
    "# part 4"
   ]
  },
  {
   "cell_type": "code",
   "execution_count": 12,
   "metadata": {},
   "outputs": [],
   "source": [
    "import cv2\n",
    "import numpy as np\n",
    "from scipy.signal import butter, lfilter"
   ]
  },
  {
   "cell_type": "code",
   "execution_count": 10,
   "metadata": {},
   "outputs": [
    {
     "data": {
      "text/plain": [
       "(120, 120, 3)"
      ]
     },
     "execution_count": 10,
     "metadata": {},
     "output_type": "execute_result"
    }
   ],
   "source": [
    "a = np.ones((240, 240, 3))\n",
    "cv2.pyrDown(a).shape"
   ]
  },
  {
   "cell_type": "code",
   "execution_count": null,
   "metadata": {},
   "outputs": [
    {
     "ename": "TypeError",
     "evalue": "butter() got an unexpected keyword argument 'axis'",
     "output_type": "error",
     "traceback": [
      "\u001b[0;31m---------------------------------------------------------------------------\u001b[0m",
      "\u001b[0;31mTypeError\u001b[0m                                 Traceback (most recent call last)",
      "Cell \u001b[0;32mIn[17], line 2\u001b[0m\n\u001b[1;32m      1\u001b[0m video \u001b[38;5;241m=\u001b[39m np\u001b[38;5;241m.\u001b[39mrandom\u001b[38;5;241m.\u001b[39mrandint(\u001b[38;5;241m0\u001b[39m, \u001b[38;5;241m255\u001b[39m, (\u001b[38;5;241m60\u001b[39m, \u001b[38;5;241m240\u001b[39m, \u001b[38;5;241m240\u001b[39m, \u001b[38;5;241m3\u001b[39m))\n\u001b[0;32m----> 2\u001b[0m \u001b[43mbutter\u001b[49m\u001b[43m(\u001b[49m\u001b[38;5;241;43m5\u001b[39;49m\u001b[43m,\u001b[49m\u001b[43m \u001b[49m\u001b[43m(\u001b[49m\u001b[38;5;241;43m0.4\u001b[39;49m\u001b[43m,\u001b[49m\u001b[43m \u001b[49m\u001b[38;5;241;43m3.0\u001b[39;49m\u001b[43m)\u001b[49m\u001b[43m,\u001b[49m\u001b[43m \u001b[49m\u001b[43mbtype\u001b[49m\u001b[38;5;241;43m=\u001b[39;49m\u001b[38;5;124;43m\"\u001b[39;49m\u001b[38;5;124;43mbandpass\u001b[39;49m\u001b[38;5;124;43m\"\u001b[39;49m\u001b[43m,\u001b[49m\u001b[43m \u001b[49m\u001b[43mfs\u001b[49m\u001b[38;5;241;43m=\u001b[39;49m\u001b[38;5;241;43m30.0\u001b[39;49m\u001b[43m,\u001b[49m\u001b[43m \u001b[49m\u001b[43maxis\u001b[49m\u001b[38;5;241;43m=\u001b[39;49m\u001b[38;5;241;43m0\u001b[39;49m\u001b[43m)\u001b[49m\n",
      "\u001b[0;31mTypeError\u001b[0m: butter() got an unexpected keyword argument 'axis'"
     ]
    }
   ],
   "source": [
    "video = np.random.randint(0, 255, (60, 240, 240, 3))\n",
    "butter(5, (0.4, 3.0), btype=\"bandpass\", fs=30.0)"
   ]
  }
 ],
 "metadata": {
  "kernelspec": {
   "display_name": "venv",
   "language": "python",
   "name": "python3"
  },
  "language_info": {
   "codemirror_mode": {
    "name": "ipython",
    "version": 3
   },
   "file_extension": ".py",
   "mimetype": "text/x-python",
   "name": "python",
   "nbconvert_exporter": "python",
   "pygments_lexer": "ipython3",
   "version": "3.11.2"
  }
 },
 "nbformat": 4,
 "nbformat_minor": 2
}
